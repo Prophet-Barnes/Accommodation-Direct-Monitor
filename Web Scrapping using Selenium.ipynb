{
 "cells": [
  {
   "cell_type": "markdown",
   "metadata": {},
   "source": [
    "# Installing unavailable libraries:"
   ]
  },
  {
   "cell_type": "code",
   "execution_count": null,
   "metadata": {},
   "outputs": [],
   "source": [
    "#! pip install selenium\n",
    "#! pip install requests\n",
    "#! pip install schedule"
   ]
  },
  {
   "cell_type": "markdown",
   "metadata": {},
   "source": [
    "### Note: In addition to these libraries, you'll also need to download ChromDriver from the internet with the version compatible with your Chrome Browser."
   ]
  },
  {
   "cell_type": "markdown",
   "metadata": {},
   "source": [
    "# Importing the required Libraries:"
   ]
  },
  {
   "cell_type": "code",
   "execution_count": null,
   "metadata": {},
   "outputs": [],
   "source": [
    "from selenium import webdriver as wd\n",
    "from selenium.webdriver.chrome.service import Service\n",
    "from selenium.webdriver.common.by import By\n",
    "from selenium.webdriver.chrome.options import Options\n",
    "import time, schedule, requests, json"
   ]
  },
  {
   "cell_type": "markdown",
   "metadata": {},
   "source": [
    "# Developing Algorithm:"
   ]
  },
  {
   "cell_type": "code",
   "execution_count": null,
   "metadata": {},
   "outputs": [],
   "source": [
    "def check_availability():\n",
    "\n",
    "    # Setting up the Chrome Webdriver\n",
    "    \n",
    "    options = Options()\n",
    "    options.add_argument('--headless') # Runs in Headless Mode\n",
    "    service = Service('C:\\Program Files\\Google\\Chrome\\Application\\chromedriver.exe') # Replace this example path with the actual path as per your case\n",
    "    driver = wd.Chrome(service = service, options = options)\n",
    "\n",
    "    # Navigating to the Website with the filter set on Accommodation Direct\n",
    "    \n",
    "    URL = 'https://www.studentbostader.se/en/find-apartments/search-apartments/?actionId=&omraden=&egenskaper=SNABB&oboTyper='\n",
    "    driver.get(URL)\n",
    "\n",
    "    # Locating the element and retrieving the text\n",
    "    \n",
    "    element = driver.find_element(By.CSS_SELECTOR, 'strong')\n",
    "    value = int(element.text)\n",
    "    print(\"Offers available: \", value)\n",
    "    \n",
    "    # Deputing Telegram bot to notify based on availability of accommodation:\n",
    "    \n",
    "    if value > 0:\n",
    "        telegram_chat_id = \"-XXXXXXXXXX\"   # Enter the Chat id for your group\n",
    "        telegram_bot_id = \"XXXXXXXXXXXXXXXXXXXXXXXXXXXXXXXX\"  # Enter the Bot which will send the notification\n",
    "        url = \"https://api.telegram.org/bot\" + telegram_bot_id + \"/sendMessage\"\n",
    "        data = {\n",
    "            \"chat_id\": telegram_chat_id,\n",
    "            \"text\": str(value) + \"offers available right now!\"\n",
    "                }\n",
    "        try:\n",
    "            response = requests.request(\n",
    "                \"POST\",\n",
    "                url,\n",
    "                params=data\n",
    "            )\n",
    "            telegram_data = json.loads(response.text)\n",
    "            \n",
    "            if telegram_data[\"ok\"] == True:\n",
    "                return \"Notification Raised.\"\n",
    "        \n",
    "        except Exception as e:\n",
    "            print(\"An error occurred in sending the Notification via Telegram\")\n",
    "            print(e)\n",
    "            return False\n",
    "        "
   ]
  },
  {
   "cell_type": "markdown",
   "metadata": {},
   "source": [
    "# Automating the process with a Scheduler:"
   ]
  },
  {
   "cell_type": "code",
   "execution_count": null,
   "metadata": {},
   "outputs": [],
   "source": [
    "# Schedule the task to run every minute\n",
    "schedule.every(1).minute.do(check_availability)\n",
    "\n",
    "# Run the scheduler\n",
    "while True:\n",
    "    schedule.run_pending()\n",
    "    time.sleep(1)"
   ]
  },
  {
   "cell_type": "markdown",
   "metadata": {},
   "source": [
    "### Note: Instead of a scheduler, the repetition can alternatively be achieving using a while loop and a delay using sleep() command."
   ]
  },
  {
   "cell_type": "code",
   "execution_count": null,
   "metadata": {},
   "outputs": [],
   "source": []
  }
 ],
 "metadata": {
  "kernelspec": {
   "display_name": "Python 3",
   "language": "python",
   "name": "python3"
  },
  "language_info": {
   "codemirror_mode": {
    "name": "ipython",
    "version": 3
   },
   "file_extension": ".py",
   "mimetype": "text/x-python",
   "name": "python",
   "nbconvert_exporter": "python",
   "pygments_lexer": "ipython3",
   "version": "3.8.3"
  }
 },
 "nbformat": 4,
 "nbformat_minor": 4
}
